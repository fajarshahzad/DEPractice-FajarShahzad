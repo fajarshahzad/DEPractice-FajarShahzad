{
  "cells": [
    {
      "cell_type": "markdown",
      "metadata": {
        "id": "fYKDh_xahj8Q"
      },
      "source": [
        "Week2 Tasks of Internship all related to the basics of data engineering\n",
        "\n"
      ]
    },
    {
      "cell_type": "markdown",
      "metadata": {
        "id": "SyArudJqRXGg"
      },
      "source": [
        "--Task 1--"
      ]
    },
    {
      "cell_type": "code",
      "execution_count": null,
      "metadata": {
        "colab": {
          "base_uri": "https://localhost:8080/"
        },
        "id": "Q8hnGVdURnLo",
        "outputId": "4bc2bbb5-ba3e-4af2-b08d-5811166d59ae"
      },
      "outputs": [
        {
          "name": "stdout",
          "output_type": "stream",
          "text": [
            "Fajar Shahzad\n",
            "18\n",
            "5.7\n",
            "False\n",
            "3rd year\n",
            "<class 'str'>\n",
            "<class 'int'>\n",
            "<class 'float'>\n",
            "<class 'bool'>\n",
            "<class 'str'>\n"
          ]
        }
      ],
      "source": [
        "name=\"Fajar Shahzad\"\n",
        "age=18\n",
        "height=5.7\n",
        "is_graduated=False\n",
        "year_of_educations=\"3rd year\"\n",
        "print(name)\n",
        "print(age)\n",
        "print(height)\n",
        "print(is_graduated)\n",
        "print(year_of_educations)\n",
        "print(type(name))\n",
        "print(type(age))\n",
        "print(type(height))\n",
        "print(type(is_graduated))\n",
        "print(type(year_of_educations))"
      ]
    },
    {
      "cell_type": "markdown",
      "metadata": {
        "id": "b5KP1KA-SzeF"
      },
      "source": [
        "--Task2--"
      ]
    },
    {
      "cell_type": "code",
      "execution_count": null,
      "metadata": {
        "colab": {
          "base_uri": "https://localhost:8080/"
        },
        "id": "Oi5CJ9xxS3pE",
        "outputId": "8e5d466e-b272-4f0d-9370-5459a2609738"
      },
      "outputs": [
        {
          "name": "stdout",
          "output_type": "stream",
          "text": [
            "Voting eligibility checker:)\n",
            "Enter your age:67\n",
            "Your status is:  True\n",
            "You are eligible to vote\n"
          ]
        }
      ],
      "source": [
        "print(\"Voting eligibility checker:)\")\n",
        "status=False\n",
        "age=int(input(\"Enter your age:\"))\n",
        "if age>=18:\n",
        "  status=True\n",
        "elif age<18:\n",
        "  status=False\n",
        "elif age==18:\n",
        "  status=True\n",
        "print(\"Your status is: \",status)\n",
        "if status==True:\n",
        "  print(\"You are eligible to vote\")\n",
        "elif status==False:\n",
        "  print(\"You are not eligible to vote\")"
      ]
    },
    {
      "cell_type": "markdown",
      "metadata": {
        "id": "HxindwaPT67Q"
      },
      "source": [
        "--Task3--"
      ]
    },
    {
      "cell_type": "code",
      "execution_count": null,
      "metadata": {
        "colab": {
          "base_uri": "https://localhost:8080/"
        },
        "id": "9okcxHDAUAa6",
        "outputId": "daece221-c6e8-41e9-9ac9-8da12f788285"
      },
      "outputs": [
        {
          "name": "stdout",
          "output_type": "stream",
          "text": [
            "Even numbers calculator:)\n",
            "Enter the value till the even are printed:20\n",
            "Choose the loop:1.For 2.While: 2\n",
            "2\n",
            "4\n",
            "6\n",
            "8\n",
            "10\n",
            "12\n",
            "14\n",
            "16\n",
            "18\n",
            "20\n",
            "The number of even numbers are: 10\n"
          ]
        }
      ],
      "source": [
        "def even_using_for(value):\n",
        "  counter=0\n",
        "  for i in range(1,value+1):\n",
        "    if i%2==0:\n",
        "      counter+=1\n",
        "      print(i)\n",
        "  return counter\n",
        "def even_using_while(value):\n",
        "  i=1\n",
        "  counter=0\n",
        "  while i<=value:\n",
        "    if i%2==0:\n",
        "      print(i)\n",
        "      counter+=1\n",
        "    i+=1\n",
        "  return counter\n",
        "print(\"Even numbers calculator:)\")\n",
        "value=int(input(\"Enter the value till the even are printed:\"))\n",
        "loop=int(input(\"Choose the loop:1.For 2.While: \"))\n",
        "if loop==1:\n",
        "  print(\"The number of even numbers are:\",even_using_for(value))\n",
        "elif loop==2:\n",
        "  print(\"The number of even numbers are:\",even_using_while(value))"
      ]
    },
    {
      "cell_type": "markdown",
      "metadata": {
        "id": "diNhJZL4WOvp"
      },
      "source": [
        "--Task4--"
      ]
    },
    {
      "cell_type": "code",
      "execution_count": null,
      "metadata": {
        "colab": {
          "base_uri": "https://localhost:8080/"
        },
        "id": "W_gDNLKPWSHC",
        "outputId": "084b7acb-8021-4aab-c99e-02f796965479"
      },
      "outputs": [
        {
          "name": "stdout",
          "output_type": "stream",
          "text": [
            "Factorial calculator:)\n",
            "Enter the value:7\n",
            "The factorial of 7 is: 5040\n"
          ]
        }
      ],
      "source": [
        "def factorial(value):\n",
        "  result=1\n",
        "  for i in range(1,value+1):\n",
        "    result*=i\n",
        "  return result\n",
        "print(\"Factorial calculator:)\")\n",
        "value=int(input(\"Enter the value:\"))\n",
        "print(\"The factorial of\",value,\"is:\",factorial(value))"
      ]
    },
    {
      "cell_type": "markdown",
      "metadata": {
        "id": "047Co9PVWsNx"
      },
      "source": [
        "--Task5--"
      ]
    },
    {
      "cell_type": "code",
      "execution_count": null,
      "metadata": {
        "colab": {
          "base_uri": "https://localhost:8080/"
        },
        "id": "dD2x-AdnWveV",
        "outputId": "aab54023-8b2d-476e-e2ee-a038e303a176"
      },
      "outputs": [
        {
          "name": "stdout",
          "output_type": "stream",
          "text": [
            "Bank account calculator:)\n",
            "Enter your name:Fajar\n",
            "Enter your balance:5000\n",
            "Choose the option:1.Withdraw 2.Deposit 3.Check Balance: 0\n",
            "Invalid option\n"
          ]
        }
      ],
      "source": [
        "class BankAccount():\n",
        "  def __init__(self,name,balance):\n",
        "    self.name=name\n",
        "    self.balance=balance\n",
        "  def withdraw(self,amount):\n",
        "    if amount>self.balance:\n",
        "            print(\"Insufficient funds!\")\n",
        "    else:\n",
        "        self.balance-=amount\n",
        "        print(f\"Withdrawn: {amount} | New Balance: {self.balance}\")\n",
        "  def deposit(self,amount):\n",
        "    self.balance+=amount\n",
        "    print(f\"Deposited: {amount} | New Balance: {self.balance}\")\n",
        "  def check_balance(self):\n",
        "    return self.balance\n",
        "print(\"Bank account calculator:)\")\n",
        "name=input(\"Enter your name:\")\n",
        "balance=int(input(\"Enter your balance:\"))\n",
        "account=BankAccount(name,balance)\n",
        "status=True\n",
        "while status:\n",
        "  option=int(input(\"Choose the option:1.Withdraw 2.Deposit 3.Check Balance: \"))\n",
        "  if option==1:\n",
        "    amount=int(input(\"Enter the amount to withdraw: \"))\n",
        "    account.withdraw(amount)\n",
        "  elif option==2:\n",
        "    amount=int(input(\"Enter the amount to deposit: \"))\n",
        "    account.deposit(amount)\n",
        "  elif option==3:\n",
        "    print(f\"Welcome {account.name}! Your balance is:\",account.check_balance())\n",
        "  elif option>3 or option<3:\n",
        "    status=False\n",
        "    print(\"Loging out..\")\n"
      ]
    },
    {
      "cell_type": "markdown",
      "metadata": {
        "id": "Rl6hFF0IawyH"
      },
      "source": [
        "--Task6--"
      ]
    },
    {
      "cell_type": "code",
      "execution_count": null,
      "metadata": {
        "colab": {
          "base_uri": "https://localhost:8080/"
        },
        "id": "hwqOb4gla0PK",
        "outputId": "41a620e8-12c2-4d2d-e670-62d5f7804aa5"
      },
      "outputs": [
        {
          "name": "stdout",
          "output_type": "stream",
          "text": [
            "File Read Write Operation:)\n",
            "Enter line 1: Fajar\n",
            "Enter line 2: Saim\n",
            "Enter line 3: Misha\n",
            "Enter line 4: Hijab\n",
            "Enter line 5: Ahsan\n",
            "\n",
            "📄 Contents of student_notes.txt:\n",
            "Fajar\n",
            "Saim\n",
            "Misha\n",
            "Hijab\n",
            "Ahsan\n"
          ]
        }
      ],
      "source": [
        "print(\"File Read Write Operation:)\")\n",
        "with open(\"student_notes.txt\",\"w\") as f:\n",
        "    for i in range(1,6):\n",
        "        line = input(f\"Enter line {i}: \")\n",
        "        f.write(line + \"\\n\")\n",
        "print(\"\\n📄 Contents of student_notes.txt:\")\n",
        "with open(\"student_notes.txt\",\"r\") as f:\n",
        "    for line in f:\n",
        "        print(line.strip())"
      ]
    },
    {
      "cell_type": "markdown",
      "metadata": {
        "id": "Y-oLBO9idp6D"
      },
      "source": [
        "--Task7--"
      ]
    },
    {
      "cell_type": "code",
      "execution_count": null,
      "metadata": {
        "colab": {
          "base_uri": "https://localhost:8080/"
        },
        "id": "XztNwXUmduwr",
        "outputId": "50c61f88-bb3f-4ad0-8f6a-bc4a7bb8af4e"
      },
      "outputs": [
        {
          "name": "stdout",
          "output_type": "stream",
          "text": [
            "Exception Handling using try catch:)\n",
            "Enter the first value:2\n",
            "Enter the second value:0\n",
            "Error: Division by zero is not allowed.\n",
            "Your answer is None.Thanks for using the calculator!\n"
          ]
        }
      ],
      "source": [
        "print(\"Exception Handling using try catch:)\")\n",
        "def divide(val1,val2):\n",
        "  try:\n",
        "    result=val1/val2\n",
        "    return result\n",
        "  except ZeroDivisionError:\n",
        "    print(\"Error: Division by zero is not allowed.\")\n",
        "  except TypeError:\n",
        "    print(\"Error: Invalid data types. Please enter numbers.\")\n",
        "  except Exception as e:\n",
        "    print(f\"An unexpected error occurred: {e}\")\n",
        "\n",
        "val1=float(input(\"Enter the first value:\"))\n",
        "val2=float(input(\"Enter the second value:\"))\n",
        "result=divide(val1,val2)\n",
        "print(f\"Your answer is {result}.Thanks for using the calculator!\")"
      ]
    },
    {
      "cell_type": "markdown",
      "metadata": {
        "id": "bEcQVkHHaiVJ"
      },
      "source": [
        "--Task8--"
      ]
    },
    {
      "cell_type": "code",
      "execution_count": 1,
      "metadata": {
        "colab": {
          "base_uri": "https://localhost:8080/"
        },
        "id": "gDpqqhxpamAk",
        "outputId": "67d5567d-3105-499c-b47a-87115e756ae2"
      },
      "outputs": [
        {
          "name": "stdout",
          "output_type": "stream",
          "text": [
            "Virtual Environment Setting:)\n",
            "Enter the value:4\n",
            "The square of 4 is: 16\n"
          ]
        }
      ],
      "source": [
        "print(\"Virtual Environment Setting:)\")\n",
        "with open(\"utils.py\",\"w\") as f:\n",
        "    f.write(\"\"\"\n",
        "def square(x):\n",
        "    return x*x\n",
        "\"\"\")\n",
        "from utils import square\n",
        "value=int(input(\"Enter the value:\"))\n",
        "print(f\"The square of {value} is:\",square(value))\n"
      ]
    },
    {
      "cell_type": "markdown",
      "metadata": {
        "id": "ecm_L08EcbZk"
      },
      "source": [
        "--Task9--"
      ]
    },
    {
      "cell_type": "code",
      "execution_count": 2,
      "metadata": {
        "colab": {
          "base_uri": "https://localhost:8080/"
        },
        "id": "-MTDRBwoceJd",
        "outputId": "798b3da7-8f34-4a29-e2bc-4d0c0f31b346"
      },
      "outputs": [
        {
          "name": "stdout",
          "output_type": "stream",
          "text": [
            "List and Dictionary Concept:)\n",
            "Name of Students: ['Fajar', 'Saim', 'Hijab', 'Muskan', 'Ahsan']\n",
            "Marks: {'Fajar': 95, 'Saim': 92, 'Hijab': 78, 'Muskan': 88, 'Ahsan': 76}\n"
          ]
        }
      ],
      "source": [
        "print(\"List and Dictionary Concept:)\")\n",
        "students=[\"Fajar\",\"Saim\",\"Hijab\",\"Muskan\",\"Ahsan\"]\n",
        "\n",
        "marks = {\n",
        "    \"Fajar\":95,\n",
        "    \"Saim\":92,\n",
        "    \"Hijab\":78,\n",
        "    \"Muskan\":88,\n",
        "    \"Ahsan\":76\n",
        "}\n",
        "print(\"Name of Students:\", students)\n",
        "print(\"Marks:\", marks)\n"
      ]
    },
    {
      "cell_type": "markdown",
      "metadata": {
        "id": "OTXI9rm_diNA"
      },
      "source": [
        "--Task10--"
      ]
    },
    {
      "cell_type": "code",
      "execution_count": 3,
      "metadata": {
        "colab": {
          "base_uri": "https://localhost:8080/"
        },
        "id": "VE-FPQPndkbS",
        "outputId": "048dfd98-95fa-4a12-c4b8-522db80a9fca"
      },
      "outputs": [
        {
          "name": "stdout",
          "output_type": "stream",
          "text": [
            "List and Dictionary Comparison:)\n",
            "Enter the value to calculate square:4\n",
            "Squares: [1, 4, 9, 16]\n",
            "Name Lengths: {'Fajar': 5, 'Saim': 4, 'Hijab': 5, 'Muskan': 6, 'Ahsan': 5}\n"
          ]
        }
      ],
      "source": [
        "print(\"List and Dictionary Comparison:)\")\n",
        "value=int(input(\"Enter the value to calculate square:\"))\n",
        "squares = [x**2 for x in range(1,value+1)]\n",
        "print(\"Squares:\", squares)\n",
        "\n",
        "name_lengths = {name: len(name) for name in [\"Fajar\",\"Saim\",\"Hijab\",\"Muskan\",\"Ahsan\"]}\n",
        "print(\"Name Lengths:\", name_lengths)\n"
      ]
    },
    {
      "cell_type": "markdown",
      "metadata": {
        "id": "1985s2vYeg1S"
      },
      "source": [
        "--Task11.1--"
      ]
    },
    {
      "cell_type": "code",
      "execution_count": 6,
      "metadata": {
        "colab": {
          "base_uri": "https://localhost:8080/"
        },
        "id": "FUQHEkbMeiyA",
        "outputId": "4e1c19ba-4a43-4e0a-e7e6-86af52939d4e"
      },
      "outputs": [
        {
          "name": "stdout",
          "output_type": "stream",
          "text": [
            "Even number generator:)\n",
            "Enter the value:10\n",
            "2 4 6 8 10 "
          ]
        }
      ],
      "source": [
        "print(\"Even number generator:)\")\n",
        "def even_numbers(n):\n",
        "    for i in range(2, n+1, 2):\n",
        "        yield i\n",
        "\n",
        "value=int(input(\"Enter the value:\"))\n",
        "for even in even_numbers(value):\n",
        "    print(even, end=' ')\n"
      ]
    },
    {
      "cell_type": "markdown",
      "metadata": {
        "id": "-9PdpSXlfrpa"
      },
      "source": [
        "--Task11.2--"
      ]
    },
    {
      "cell_type": "code",
      "execution_count": 7,
      "metadata": {
        "colab": {
          "base_uri": "https://localhost:8080/"
        },
        "id": "uG6_AgQmfudk",
        "outputId": "6f26b4f5-ddc1-49a6-bdd4-4a0d690770cb"
      },
      "outputs": [
        {
          "name": "stdout",
          "output_type": "stream",
          "text": [
            "Log decorator:)\n",
            "▶️ Calling greet()...\n",
            "Hello from decorated function!\n",
            "✅ greet() executed.\n",
            "\n"
          ]
        }
      ],
      "source": [
        "print(\"Log decorator:)\")\n",
        "def log(func):\n",
        "    def wrapper(*args, **kwargs):\n",
        "        print(f\"▶️ Calling {func.__name__}()...\")\n",
        "        result = func(*args, **kwargs)\n",
        "        print(f\"✅ {func.__name__}() executed.\\n\")\n",
        "        return result\n",
        "    return wrapper\n",
        "\n",
        "@log\n",
        "def greet():\n",
        "    print(\"Hello from decorated function!\")\n",
        "\n",
        "greet()\n"
      ]
    },
    {
      "cell_type": "markdown",
      "metadata": {
        "id": "aZ41tP90gRpp"
      },
      "source": [
        "--Task12--"
      ]
    },
    {
      "cell_type": "code",
      "execution_count": null,
      "metadata": {
        "colab": {
          "base_uri": "https://localhost:8080/"
        },
        "id": "1GEdXXhFgVT_",
        "outputId": "554841db-1a28-46e3-e2d1-887a8402ed73"
      },
      "outputs": [
        {
          "name": "stdout",
          "output_type": "stream",
          "text": [
            "Map,Filter,Reduce:)\n",
            "Map-->>Squares: [1, 4, 9, 16, 25]\n",
            "Filter-->>Evens: [2, 4]\n",
            "Reduce-->>Product: 120\n"
          ]
        }
      ],
      "source": [
        "print(\"Map,Filter,Reduce:)\")\n",
        "from functools import reduce\n",
        "\n",
        "nums=[1, 2, 3, 4, 5]\n",
        "squared=list(map(lambda x:x*x,nums))\n",
        "print(\"Map-->>Squares:\",squared)\n",
        "\n",
        "evens=list(filter(lambda x:x % 2==0,nums))\n",
        "print(\"Filter-->>Evens:\",evens)\n",
        "\n",
        "product=reduce(lambda x, y: x*y,nums)\n",
        "print(\"Reduce-->>Product:\",product)\n"
      ]
    }
  ],
  "metadata": {
    "colab": {
      "provenance": []
    },
    "kernelspec": {
      "display_name": "Python 3",
      "name": "python3"
    },
    "language_info": {
      "name": "python"
    }
  },
  "nbformat": 4,
  "nbformat_minor": 0
}
