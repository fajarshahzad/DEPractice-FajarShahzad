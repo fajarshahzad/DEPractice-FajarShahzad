{
  "nbformat": 4,
  "nbformat_minor": 0,
  "metadata": {
    "colab": {
      "provenance": []
    },
    "kernelspec": {
      "name": "python3",
      "display_name": "Python 3"
    },
    "language_info": {
      "name": "python"
    }
  },
  "cells": [
    {
      "cell_type": "markdown",
      "source": [
        "##Phase-2"
      ],
      "metadata": {
        "id": "-2MVCfvjtuWm"
      }
    },
    {
      "cell_type": "markdown",
      "source": [
        "##NumPy Basics  \n",
        "##Task1-->Array, Shape of Array, Vectorization(Applying arithmetic operation on array),Broadcast(Applying operation either btw array or scalar value,array of different sizes)"
      ],
      "metadata": {
        "id": "aVvE6PW2LE0b"
      }
    },
    {
      "cell_type": "code",
      "source": [
        "import numpy as np\n",
        "print(\"Task 1 Basics:)\")\n",
        "array=np.random.randint(low=1,high=50,size=(3,3))\n",
        "print(\"Array of 3X3 Dimension: \",array)\n",
        "square=array**2## Broadcasting\n",
        "print(\"Square of Array: \",square)\n",
        "row_wise_sum=np.sum(array,axis=1)## Vectorization\n",
        "print(\"Row-wise Sum: \",row_wise_sum)\n",
        "column_wise_sum=np.sum(array,axis=0)\n",
        "print(\"Column-wise Sum: \",column_wise_sum)"
      ],
      "metadata": {
        "colab": {
          "base_uri": "https://localhost:8080/"
        },
        "id": "gvcC0j3sNUxK",
        "outputId": "3b12bcac-fdef-4793-be67-a130fcfbaf10"
      },
      "execution_count": 12,
      "outputs": [
        {
          "output_type": "stream",
          "name": "stdout",
          "text": [
            "Task 1 Basics:)\n",
            "Array of 3X3 Dimension:  [[46 31 15]\n",
            " [48 27 27]\n",
            " [17 30 26]]\n",
            "Square of Array:  [[2116  961  225]\n",
            " [2304  729  729]\n",
            " [ 289  900  676]]\n",
            "Row-wise Sum:  [ 92 102  73]\n",
            "Column-wise Sum:  [111  88  68]\n"
          ]
        }
      ]
    },
    {
      "cell_type": "markdown",
      "source": [
        "Task 2-->>Pandas and its basics"
      ],
      "metadata": {
        "id": "thud6gInOaBE"
      }
    },
    {
      "cell_type": "code",
      "source": [],
      "metadata": {
        "id": "F1RU20r2d8k9"
      },
      "execution_count": null,
      "outputs": []
    },
    {
      "cell_type": "code",
      "source": [
        "import numpy as np\n",
        "import pandas as pd\n",
        "##Series of Data\n",
        "data=pd.Series([1,2,3],index=['a','b','c'])\n",
        "print(data)\n",
        "## DataFrame\n",
        "data1={'Name':['Fajar','Saim','Muskan'],'ID':[1,2,3]}\n",
        "data2={'City':['Lahore','Karachi','Gujranwala'],'ID':[1,2,4]}\n",
        "data3={'ID':[1,2,1],'Age':[18,22,24]}\n",
        "df1=pd.DataFrame(data1)\n",
        "df2=pd.DataFrame(data2)\n",
        "df3=pd.DataFrame(data3)\n",
        "print(df1)\n",
        "##Loc index wise inclusive\n",
        "value=df1.loc[1]\n",
        "print(value)\n",
        "##iLoc position wise exclusive\n",
        "value1=df1.iloc[2]\n",
        "print(value1)\n",
        "## Merging\n",
        "merger=pd.merge(df1,df2,how='left')\n",
        "print(merger)\n",
        "## Groupby\n",
        "group_by=df3.groupby('ID').sum()\n",
        "print(group_by)\n",
        "## Pivot Table\n",
        "pivot=pd.pivot_table(df3,values='Age',index='ID',aggfunc='mean')\n",
        "print(pivot)\n"
      ],
      "metadata": {
        "colab": {
          "base_uri": "https://localhost:8080/"
        },
        "id": "FsgPvMuKRXsz",
        "outputId": "fd01af7c-8162-42b7-f15d-3ae08997c4ac"
      },
      "execution_count": null,
      "outputs": [
        {
          "output_type": "stream",
          "name": "stdout",
          "text": [
            "a    1\n",
            "b    2\n",
            "c    3\n",
            "dtype: int64\n",
            "     Name  ID\n",
            "0   Fajar   1\n",
            "1    Saim   2\n",
            "2  Muskan   3\n",
            "Name    Saim\n",
            "ID         2\n",
            "Name: 1, dtype: object\n",
            "Name    Muskan\n",
            "ID           3\n",
            "Name: 2, dtype: object\n",
            "     Name  ID     City\n",
            "0   Fajar   1   Lahore\n",
            "1    Saim   2  Karachi\n",
            "2  Muskan   3      NaN\n",
            "    Age\n",
            "ID     \n",
            "1    42\n",
            "2    22\n",
            "     Age\n",
            "ID      \n",
            "1   21.0\n",
            "2   22.0\n"
          ]
        }
      ]
    },
    {
      "cell_type": "markdown",
      "source": [
        "## Load a csv and groupby average_score on gender"
      ],
      "metadata": {
        "id": "-d1l-oj3ePsT"
      }
    },
    {
      "cell_type": "code",
      "source": [
        "print(\"Group_by Score:)\")\n",
        "##data=pd.read_csv('data.csv')\n",
        "##print(data)\n",
        "##group_by=data.groupby('gender')['average_score'].mean()\n",
        "##print(group_by)\n",
        "import numpy as np\n",
        "import pandas as pd\n",
        "data=pd.DataFrame({'ID':[1,2,3,2,1],'Name':[\"Fajar\",\"Saim\",\"Muskan\",\"Saim\",\"Fajar\"],'Score':[33,43,54,23,12],'Gender':[\"Female\",\"Male\",\"Female\",\"Male\",\"Female\"]})\n",
        "print(data)\n",
        "group_by=data.groupby('Gender')['Score'].mean()\n",
        "print(group_by)"
      ],
      "metadata": {
        "id": "n0NRnNPyeS_s",
        "outputId": "d10aae6e-05db-4905-dc70-e09afca76fed",
        "colab": {
          "base_uri": "https://localhost:8080/"
        }
      },
      "execution_count": 3,
      "outputs": [
        {
          "output_type": "stream",
          "name": "stdout",
          "text": [
            "Group_by Score:)\n",
            "   ID    Name  Score  Gender\n",
            "0   1   Fajar     33  Female\n",
            "1   2    Saim     43    Male\n",
            "2   3  Muskan     54  Female\n",
            "3   2    Saim     23    Male\n",
            "4   1   Fajar     12  Female\n",
            "Gender\n",
            "Female    33.0\n",
            "Male      33.0\n",
            "Name: Score, dtype: float64\n"
          ]
        }
      ]
    },
    {
      "cell_type": "markdown",
      "source": [
        "##Cleaning Data"
      ],
      "metadata": {
        "id": "YL4H2KdLhrN7"
      }
    },
    {
      "cell_type": "code",
      "source": [
        "import pandas as pd\n",
        "import numpy as np\n",
        "data = {\n",
        "    'Name': ['Fajar', 'Saim', 'Ahsan', 'Muskan', 'Hijab'],\n",
        "    'Gender': ['Female', 'Male', 'Male', np.nan, 'Female'],\n",
        "    'Age': [25, 30, np.nan, 22, np.nan],\n",
        "    'Score': [85, np.nan, 78, 90, 88]\n",
        "}\n",
        "df = pd.DataFrame(data)\n",
        "print(\"Original DataFrame:\\n\", df)\n",
        "##Drop values\n",
        "drop_value=df.dropna()\n",
        "print(\"DataFrame after removing missing values:\\n\",drop_value)\n",
        "##Fill values\n",
        "fill_value=df.fillna(0)\n",
        "print(\"DataFrame after filling missing values:\\n\",fill_value)\n",
        "##Is empty-->Return bool values\n",
        "null_value=df.isnull()\n",
        "print(\"DataFrame after checking for missing values:\\n\",null_value)\n",
        "## Is empty-->Sum of null\n",
        "sum_of_null_value=df.isnull().sum()\n",
        "print(\"DataFrame after checking for missing values:\\n\",sum_of_null_value)\n"
      ],
      "metadata": {
        "id": "YbItE_othxR0",
        "outputId": "18ae0462-b76b-4d29-fd81-ef6751c248e4",
        "colab": {
          "base_uri": "https://localhost:8080/"
        }
      },
      "execution_count": 8,
      "outputs": [
        {
          "output_type": "stream",
          "name": "stdout",
          "text": [
            "Original DataFrame:\n",
            "      Name  Gender   Age  Score\n",
            "0   Fajar  Female  25.0   85.0\n",
            "1    Saim    Male  30.0    NaN\n",
            "2   Ahsan    Male   NaN   78.0\n",
            "3  Muskan     NaN  22.0   90.0\n",
            "4   Hijab  Female   NaN   88.0\n",
            "DataFrame after removing missing values:\n",
            "     Name  Gender   Age  Score\n",
            "0  Fajar  Female  25.0   85.0\n",
            "DataFrame after filling missing values:\n",
            "      Name  Gender   Age  Score\n",
            "0   Fajar  Female  25.0   85.0\n",
            "1    Saim    Male  30.0    0.0\n",
            "2   Ahsan    Male   0.0   78.0\n",
            "3  Muskan       0  22.0   90.0\n",
            "4   Hijab  Female   0.0   88.0\n",
            "DataFrame after checking for missing values:\n",
            "     Name  Gender    Age  Score\n",
            "0  False   False  False  False\n",
            "1  False   False  False   True\n",
            "2  False   False   True  False\n",
            "3  False    True  False  False\n",
            "4  False   False   True  False\n",
            "DataFrame after checking for missing values:\n",
            " Name      0\n",
            "Gender    1\n",
            "Age       2\n",
            "Score     1\n",
            "dtype: int64\n"
          ]
        }
      ]
    },
    {
      "cell_type": "markdown",
      "source": [
        "##Load a CSV file and fill missing numeric values with the column mean."
      ],
      "metadata": {
        "id": "X51xyTK1jijk"
      }
    },
    {
      "cell_type": "code",
      "source": [
        "import pandas as pd\n",
        "import numpy as np\n",
        "data = {\n",
        "    'Name': ['Fajar', 'Saim', 'Ahsan', 'Muskan', 'Hijab'],\n",
        "    'Gender': ['Female', 'Male', 'Male', np.nan, 'Female'],\n",
        "    'Age': [25, 30, np.nan, 22, np.nan],\n",
        "    'Score': [85, np.nan, 78, 90, 88]\n",
        "}\n",
        "values=pd.DataFrame(data)\n",
        "print(\"Original DataFrame:\\n\",values)\n",
        "mean_value=values['Score'].mean()\n",
        "values['Score'].fillna(mean_value)\n",
        "print(\"New DataFrame:\\n\",values)"
      ],
      "metadata": {
        "id": "m1AVU5nKjp2g",
        "outputId": "887f6249-d513-441c-b5b9-9f7c4d89cea2",
        "colab": {
          "base_uri": "https://localhost:8080/"
        }
      },
      "execution_count": 4,
      "outputs": [
        {
          "output_type": "stream",
          "name": "stdout",
          "text": [
            "Original DataFrame:\n",
            "      Name  Gender   Age  Score\n",
            "0   Fajar  Female  25.0   85.0\n",
            "1    Saim    Male  30.0    NaN\n",
            "2   Ahsan    Male   NaN   78.0\n",
            "3  Muskan     NaN  22.0   90.0\n",
            "4   Hijab  Female   NaN   88.0\n",
            "New DataFrame:\n",
            "      Name  Gender   Age  Score\n",
            "0   Fajar  Female  25.0   85.0\n",
            "1    Saim    Male  30.0    NaN\n",
            "2   Ahsan    Male   NaN   78.0\n",
            "3  Muskan     NaN  22.0   90.0\n",
            "4   Hijab  Female   NaN   88.0\n"
          ]
        }
      ]
    },
    {
      "cell_type": "markdown",
      "source": [
        "##Type Converstions"
      ],
      "metadata": {
        "id": "7vsKSH2flRBJ"
      }
    },
    {
      "cell_type": "code",
      "source": [
        "import numpy as np\n",
        "import pandas as pd\n",
        "data={'ID':[1,2,1],'Age':[\"18\",\"22\",\"24\"]}\n",
        "df=pd.DataFrame(data)\n",
        "print(\"Original DataFrame:\\n\",df)\n",
        "print(\"Type of Age: \",type(df.loc[0,'Age']))\n",
        "df['Age']=df['Age'].astype(int)\n",
        "print(\"New DataFrame after changing age type:\\n\",df)\n",
        "print(\"Type of Age: \",type(df.loc[0,'Age']))"
      ],
      "metadata": {
        "id": "nhidnLsllU7A",
        "outputId": "c4410597-cb6e-4147-b66e-dfd0145d9c1b",
        "colab": {
          "base_uri": "https://localhost:8080/"
        }
      },
      "execution_count": 13,
      "outputs": [
        {
          "output_type": "stream",
          "name": "stdout",
          "text": [
            "Original DataFrame:\n",
            "    ID Age\n",
            "0   1  18\n",
            "1   2  22\n",
            "2   1  24\n",
            "Type of Age:  <class 'str'>\n",
            "New DataFrame after changing age type:\n",
            "    ID  Age\n",
            "0   1   18\n",
            "1   2   22\n",
            "2   1   24\n",
            "Type of Age:  <class 'numpy.int64'>\n"
          ]
        }
      ]
    },
    {
      "cell_type": "markdown",
      "source": [
        "##Filtering,Sorting,Slicing"
      ],
      "metadata": {
        "id": "aQXUjNDAnmOO"
      }
    },
    {
      "cell_type": "code",
      "source": [
        "import numpy as np\n",
        "import pandas as pd\n",
        "data = {\n",
        "    'Name': ['Fajar', 'Saim', 'Ahsan', 'Muskan', 'Hijab', 'Munees', 'Sherri', 'Mustafa'],\n",
        "    'Score': [99, 88, 91, 95, 84, 73, 96, 92]\n",
        "}\n",
        "df = pd.DataFrame(data)\n",
        "print(\"Original DataFrame:\\n\",df)\n",
        "filtered_data=df[df['Score']>90]\n",
        "print(\"Filtered DataFrame:\\n\",filtered_data)\n",
        "sorted_data=df.sort_values(by='Score',ascending=False)\n",
        "print(\"Sorted DataFrame:\\n\",sorted_data)\n",
        "sliced_data=df.iloc[0:5]\n",
        "print(\"Sliced DataFrame:\\n\",sliced_data)\n",
        "top_five=df.nlargest(5,'Score')\n",
        "print(\"Top Five DataFrame:\\n\",top_five)\n",
        "top=df.head(5)\n",
        "print(\"Top DataFrame:\\n\",top)\n",
        "bottom=df.tail(5)\n",
        "print(\"Bottom DataFrame:\\n\",bottom)"
      ],
      "metadata": {
        "id": "EYYbF_IMn-ia",
        "outputId": "5756da3e-4ac1-4cb4-f893-690a13dba37b",
        "colab": {
          "base_uri": "https://localhost:8080/"
        }
      },
      "execution_count": 17,
      "outputs": [
        {
          "output_type": "stream",
          "name": "stdout",
          "text": [
            "Original DataFrame:\n",
            "       Name  Score\n",
            "0    Fajar     99\n",
            "1     Saim     88\n",
            "2    Ahsan     91\n",
            "3   Muskan     95\n",
            "4    Hijab     84\n",
            "5   Munees     73\n",
            "6   Sherri     96\n",
            "7  Mustafa     92\n",
            "Filtered DataFrame:\n",
            "       Name  Score\n",
            "0    Fajar     99\n",
            "2    Ahsan     91\n",
            "3   Muskan     95\n",
            "6   Sherri     96\n",
            "7  Mustafa     92\n",
            "Sorted DataFrame:\n",
            "       Name  Score\n",
            "0    Fajar     99\n",
            "6   Sherri     96\n",
            "3   Muskan     95\n",
            "7  Mustafa     92\n",
            "2    Ahsan     91\n",
            "1     Saim     88\n",
            "4    Hijab     84\n",
            "5   Munees     73\n",
            "Sliced DataFrame:\n",
            "      Name  Score\n",
            "0   Fajar     99\n",
            "1    Saim     88\n",
            "2   Ahsan     91\n",
            "3  Muskan     95\n",
            "4   Hijab     84\n",
            "Top Five DataFrame:\n",
            "       Name  Score\n",
            "0    Fajar     99\n",
            "6   Sherri     96\n",
            "3   Muskan     95\n",
            "7  Mustafa     92\n",
            "2    Ahsan     91\n",
            "Top DataFrame:\n",
            "      Name  Score\n",
            "0   Fajar     99\n",
            "1    Saim     88\n",
            "2   Ahsan     91\n",
            "3  Muskan     95\n",
            "4   Hijab     84\n",
            "Bottom DataFrame:\n",
            "       Name  Score\n",
            "3   Muskan     95\n",
            "4    Hijab     84\n",
            "5   Munees     73\n",
            "6   Sherri     96\n",
            "7  Mustafa     92\n"
          ]
        }
      ]
    },
    {
      "cell_type": "markdown",
      "source": [
        "##Date/Time Processing"
      ],
      "metadata": {
        "id": "VqUtxXYeptPE"
      }
    },
    {
      "cell_type": "code",
      "source": [
        "import numpy as np\n",
        "import pandas as pd\n",
        "data = {\n",
        "    'event': ['Exam', 'Meeting', 'Holiday', 'Workshop'],\n",
        "    'date': ['2025-01-15', '2025-02-10', '2025-03-25', '2025-04-18']\n",
        "}\n",
        "df = pd.DataFrame(data)\n",
        "print(\"Original DataFrame:\\n\",df)\n",
        "df['date']=pd.to_datetime(df['date'])\n",
        "print(\"New DataFrame:\\n\",df)\n",
        "df['year']=df['date'].dt.year\n",
        "df['month']=df['date'].dt.month\n",
        "df['day']=df['date'].dt.day\n",
        "print(\"New DataFrame:\\n\",df)"
      ],
      "metadata": {
        "id": "E0ZnBFJFqCdL",
        "outputId": "25a85ed5-230c-4930-bf7d-2fc9b6a9632a",
        "colab": {
          "base_uri": "https://localhost:8080/"
        }
      },
      "execution_count": 19,
      "outputs": [
        {
          "output_type": "stream",
          "name": "stdout",
          "text": [
            "Original DataFrame:\n",
            "       event        date\n",
            "0      Exam  2025-01-15\n",
            "1   Meeting  2025-02-10\n",
            "2   Holiday  2025-03-25\n",
            "3  Workshop  2025-04-18\n",
            "New DataFrame:\n",
            "       event       date\n",
            "0      Exam 2025-01-15\n",
            "1   Meeting 2025-02-10\n",
            "2   Holiday 2025-03-25\n",
            "3  Workshop 2025-04-18\n",
            "New DataFrame:\n",
            "       event       date  year  month  day\n",
            "0      Exam 2025-01-15  2025      1   15\n",
            "1   Meeting 2025-02-10  2025      2   10\n",
            "2   Holiday 2025-03-25  2025      3   25\n",
            "3  Workshop 2025-04-18  2025      4   18\n"
          ]
        }
      ]
    },
    {
      "cell_type": "markdown",
      "source": [
        "##Outliner Detection"
      ],
      "metadata": {
        "id": "oVm-pdDBqd0g"
      }
    },
    {
      "cell_type": "code",
      "source": [
        "import pandas as pd\n",
        "import numpy as np\n",
        "data = {\n",
        "    'Name': ['Fajar', 'Saim', 'Muskan', 'Hijab', 'Ahsan', 'Sumaira'],\n",
        "    'Score': [85, 88, 90, 87, 86, 999]\n",
        "}\n",
        "df = pd.DataFrame(data)\n",
        "q1 = df['Score'].quantile(0.25)\n",
        "q3 = df['Score'].quantile(0.75)\n",
        "iqr = q3 - q1\n",
        "\n",
        "filtered_df = df[(df['Score'] >= q1 - 1.5 * iqr) & (df['Score'] <= q3 + 1.5 * iqr)]\n",
        "print(\"Original Data:\\n\", df)\n",
        "print(\"\\nFiltered Data (without outliers):\\n\", filtered_df)\n"
      ],
      "metadata": {
        "id": "mhciWf0Lqpoq",
        "outputId": "70d3d627-08a3-438e-ca90-43f9dbc31878",
        "colab": {
          "base_uri": "https://localhost:8080/"
        }
      },
      "execution_count": 25,
      "outputs": [
        {
          "output_type": "stream",
          "name": "stdout",
          "text": [
            "Original Data:\n",
            "       Name  Score\n",
            "0    Fajar     85\n",
            "1     Saim     88\n",
            "2   Muskan     90\n",
            "3    Hijab     87\n",
            "4    Ahsan     86\n",
            "5  Sumaira    999\n",
            "\n",
            "Filtered Data (without outliers):\n",
            "      Name  Score\n",
            "0   Fajar     85\n",
            "1    Saim     88\n",
            "2  Muskan     90\n",
            "3   Hijab     87\n",
            "4   Ahsan     86\n"
          ]
        }
      ]
    },
    {
      "cell_type": "markdown",
      "source": [
        "##String Processing with Regex"
      ],
      "metadata": {
        "id": "e477p67VrBEr"
      }
    },
    {
      "cell_type": "code",
      "source": [
        "import numpy as np\n",
        "import pandas as pd\n",
        "data = {\n",
        "    'Name': ['Fajar123', 'Mus!Kan', 'S@aim_99', 'Ahsan#_1', 'Hija*_22b']\n",
        "}\n",
        "df = pd.DataFrame(data)\n",
        "print(\"Original DataFrame:\\n\",df)\n",
        "df['Name']=df['Name'].str.replace(r'[^a-zA-Z\\s]','',regex=True)\n",
        "print(\"New DataFrame:\\n\",df)"
      ],
      "metadata": {
        "id": "LnDZagWprLF0",
        "outputId": "6dc68e31-eb1c-4776-dbb7-d79757154f6c",
        "colab": {
          "base_uri": "https://localhost:8080/"
        }
      },
      "execution_count": 24,
      "outputs": [
        {
          "output_type": "stream",
          "name": "stdout",
          "text": [
            "Original DataFrame:\n",
            "         Name\n",
            "0   Fajar123\n",
            "1    Mus!Kan\n",
            "2   S@aim_99\n",
            "3   Ahsan#_1\n",
            "4  Hija*_22b\n",
            "New DataFrame:\n",
            "      Name\n",
            "0   Fajar\n",
            "1  MusKan\n",
            "2    Saim\n",
            "3   Ahsan\n",
            "4   Hijab\n"
          ]
        }
      ]
    }
  ]
}